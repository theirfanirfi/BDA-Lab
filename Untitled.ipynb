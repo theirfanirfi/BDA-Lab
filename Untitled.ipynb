{
 "cells": [
  {
   "cell_type": "code",
   "execution_count": 1,
   "id": "accredited-carbon",
   "metadata": {},
   "outputs": [],
   "source": [
    "import pandas as pd"
   ]
  },
  {
   "cell_type": "code",
   "execution_count": 8,
   "id": "monetary-might",
   "metadata": {},
   "outputs": [
    {
     "ename": "FileNotFoundError",
     "evalue": "[Errno 2] No such file or directory: 'task_json_data.json'",
     "output_type": "error",
     "traceback": [
      "\u001b[0;31m---------------------------------------------------------------------------\u001b[0m",
      "\u001b[0;31mFileNotFoundError\u001b[0m                         Traceback (most recent call last)",
      "\u001b[0;32m<ipython-input-8-9ade84420470>\u001b[0m in \u001b[0;36m<module>\u001b[0;34m\u001b[0m\n\u001b[1;32m      2\u001b[0m \u001b[0;32mimport\u001b[0m \u001b[0mjson\u001b[0m\u001b[0;34m\u001b[0m\u001b[0;34m\u001b[0m\u001b[0m\n\u001b[1;32m      3\u001b[0m \u001b[0;34m\u001b[0m\u001b[0m\n\u001b[0;32m----> 4\u001b[0;31m \u001b[0mjsondata\u001b[0m \u001b[0;34m=\u001b[0m \u001b[0mopen\u001b[0m\u001b[0;34m(\u001b[0m\u001b[0;34m'task_json_data.json'\u001b[0m\u001b[0;34m)\u001b[0m\u001b[0;34m.\u001b[0m\u001b[0mread\u001b[0m\u001b[0;34m(\u001b[0m\u001b[0;34m)\u001b[0m\u001b[0;34m\u001b[0m\u001b[0;34m\u001b[0m\u001b[0m\n\u001b[0m\u001b[1;32m      5\u001b[0m \u001b[0;34m\u001b[0m\u001b[0m\n\u001b[1;32m      6\u001b[0m \u001b[0mjson_object\u001b[0m \u001b[0;34m=\u001b[0m \u001b[0mjson\u001b[0m\u001b[0;34m.\u001b[0m\u001b[0mloads\u001b[0m\u001b[0;34m(\u001b[0m\u001b[0mjsondata\u001b[0m\u001b[0;34m)\u001b[0m\u001b[0;34m\u001b[0m\u001b[0;34m\u001b[0m\u001b[0m\n",
      "\u001b[0;31mFileNotFoundError\u001b[0m: [Errno 2] No such file or directory: 'task_json_data.json'"
     ]
    }
   ],
   "source": [
    "# jd = pd.read_json('./task1/task_json_data.json')\n",
    "import json\n",
    "\n",
    "jsondata = open('task_json_data.json').read()\n",
    "\n",
    "json_object = json.loads(jsondata)\n",
    "print(\n",
    "    \"=======================================================================================\" \"\\n\"\n",
    "    \"DN                                                 Description           Speed    MTU\" \"\\n\" \n",
    "    \"-------------------------------------------------- --------------------  ------  ------\")\n",
    "imdata = json_object[\"imdata\"]\n",
    "for i in imdata:\n",
    "        dn = i[\"l1PhysIf\"][\"attributes\"][\"dn\"]\n",
    "        descr = i[\"l1PhysIf\"][\"attributes\"][\"descr\"]\n",
    "        speed = i[\"l1PhysIf\"][\"attributes\"][\"speed\"]\n",
    "        mtu = i[\"l1PhysIf\"][\"attributes\"][\"mtu\"]\n",
    "        # print fields formatted in columns\n",
    "        print(\"{0:50} {1:20} {2:7} {3:6}\".format(dn,descr,speed,mtu))"
   ]
  },
  {
   "cell_type": "code",
   "execution_count": null,
   "id": "olympic-casino",
   "metadata": {},
   "outputs": [],
   "source": []
  }
 ],
 "metadata": {
  "kernelspec": {
   "display_name": "Python 3",
   "language": "python",
   "name": "python3"
  },
  "language_info": {
   "codemirror_mode": {
    "name": "ipython",
    "version": 3
   },
   "file_extension": ".py",
   "mimetype": "text/x-python",
   "name": "python",
   "nbconvert_exporter": "python",
   "pygments_lexer": "ipython3",
   "version": "3.8.8"
  }
 },
 "nbformat": 4,
 "nbformat_minor": 5
}
